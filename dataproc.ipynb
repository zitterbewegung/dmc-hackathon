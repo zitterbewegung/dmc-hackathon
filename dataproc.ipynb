{
 "cells": [
  {
   "cell_type": "code",
   "execution_count": 14,
   "metadata": {
    "collapsed": false
   },
   "outputs": [
    {
     "data": {
      "text/plain": [
       "'F:\\\\DOME_Data\\\\itamcojson2012.json'"
      ]
     },
     "execution_count": 14,
     "metadata": {},
     "output_type": "execute_result"
    }
   ],
   "source": [
    "import os\n",
    "data_location = os.path.normpath(\"F:\\DOME_Data\\itamcojson2012.json\")\n",
    "data_location"
   ]
  },
  {
   "cell_type": "code",
   "execution_count": 12,
   "metadata": {
    "collapsed": true
   },
   "outputs": [],
   "source": [
    "import pandas"
   ]
  },
  {
   "cell_type": "code",
   "execution_count": 15,
   "metadata": {
    "collapsed": false
   },
   "outputs": [
    {
     "ename": "MemoryError",
     "evalue": "",
     "output_type": "error",
     "traceback": [
      "\u001b[1;31m---------------------------------------------------------------------------\u001b[0m",
      "\u001b[1;31mMemoryError\u001b[0m                               Traceback (most recent call last)",
      "\u001b[1;32m<ipython-input-15-088b5790a0cb>\u001b[0m in \u001b[0;36m<module>\u001b[1;34m()\u001b[0m\n\u001b[1;32m----> 1\u001b[1;33m \u001b[0mdataframe\u001b[0m \u001b[1;33m=\u001b[0m \u001b[0mpandas\u001b[0m\u001b[1;33m.\u001b[0m\u001b[0mread_json\u001b[0m\u001b[1;33m(\u001b[0m\u001b[0mdata_location\u001b[0m\u001b[1;33m)\u001b[0m\u001b[1;33m\u001b[0m\u001b[0m\n\u001b[0m",
      "\u001b[1;32mC:\\Users\\Smitha\\AppData\\Local\\Enthought\\Canopy32\\User\\lib\\site-packages\\pandas\\io\\json.py\u001b[0m in \u001b[0;36mread_json\u001b[1;34m(path_or_buf, orient, typ, dtype, convert_axes, convert_dates, keep_default_dates, numpy, precise_float, date_unit)\u001b[0m\n\u001b[0;32m    185\u001b[0m         \u001b[1;32mif\u001b[0m \u001b[0mexists\u001b[0m\u001b[1;33m:\u001b[0m\u001b[1;33m\u001b[0m\u001b[0m\n\u001b[0;32m    186\u001b[0m             \u001b[1;32mwith\u001b[0m \u001b[0mopen\u001b[0m\u001b[1;33m(\u001b[0m\u001b[0mfilepath_or_buffer\u001b[0m\u001b[1;33m,\u001b[0m \u001b[1;34m'r'\u001b[0m\u001b[1;33m)\u001b[0m \u001b[1;32mas\u001b[0m \u001b[0mfh\u001b[0m\u001b[1;33m:\u001b[0m\u001b[1;33m\u001b[0m\u001b[0m\n\u001b[1;32m--> 187\u001b[1;33m                 \u001b[0mjson\u001b[0m \u001b[1;33m=\u001b[0m \u001b[0mfh\u001b[0m\u001b[1;33m.\u001b[0m\u001b[0mread\u001b[0m\u001b[1;33m(\u001b[0m\u001b[1;33m)\u001b[0m\u001b[1;33m\u001b[0m\u001b[0m\n\u001b[0m\u001b[0;32m    188\u001b[0m         \u001b[1;32melse\u001b[0m\u001b[1;33m:\u001b[0m\u001b[1;33m\u001b[0m\u001b[0m\n\u001b[0;32m    189\u001b[0m             \u001b[0mjson\u001b[0m \u001b[1;33m=\u001b[0m \u001b[0mfilepath_or_buffer\u001b[0m\u001b[1;33m\u001b[0m\u001b[0m\n",
      "\u001b[1;31mMemoryError\u001b[0m: "
     ]
    }
   ],
   "source": [
    "dataframe = pandas.read_json(data_location)"
   ]
  },
  {
   "cell_type": "code",
   "execution_count": 16,
   "metadata": {
    "collapsed": false
   },
   "outputs": [
    {
     "data": {
      "text/plain": [
       "'C:\\\\Users\\\\Smitha\\\\Documents\\\\GitHub\\\\dmc-hackathon\\\\loadtest.json'"
      ]
     },
     "execution_count": 16,
     "metadata": {},
     "output_type": "execute_result"
    }
   ],
   "source": [
    "import os\n",
    "data_location = os.path.normpath(\"C:\\Users\\Smitha\\Documents\\GitHub\\dmc-hackathon\\loadtest.json\")\n",
    "data_location"
   ]
  },
  {
   "cell_type": "code",
   "execution_count": 17,
   "metadata": {
    "collapsed": true
   },
   "outputs": [],
   "source": [
    "dataframe = pandas.read_json(data_location)"
   ]
  },
  {
   "cell_type": "code",
   "execution_count": 18,
   "metadata": {
    "collapsed": false
   },
   "outputs": [
    {
     "data": {
      "text/html": [
       "<div>\n",
       "<table border=\"1\" class=\"dataframe\">\n",
       "  <thead>\n",
       "    <tr style=\"text-align: right;\">\n",
       "      <th></th>\n",
       "      <th>_id</th>\n",
       "      <th>alarm_code</th>\n",
       "      <th>alarm_condition</th>\n",
       "      <th>alarm_name</th>\n",
       "      <th>alarm_nativeCode</th>\n",
       "      <th>alarm_severity</th>\n",
       "      <th>alarm_type</th>\n",
       "      <th>begin_dt_tm</th>\n",
       "      <th>category</th>\n",
       "      <th>component</th>\n",
       "      <th>dataitemid</th>\n",
       "      <th>department</th>\n",
       "      <th>instance_id</th>\n",
       "      <th>machine_id</th>\n",
       "      <th>mt_name</th>\n",
       "      <th>mt_value</th>\n",
       "      <th>sequence</th>\n",
       "      <th>subtype</th>\n",
       "      <th>type</th>\n",
       "      <th>virtual_flag</th>\n",
       "    </tr>\n",
       "  </thead>\n",
       "  <tbody>\n",
       "    <tr>\n",
       "      <th>0</th>\n",
       "      <td>{u'$oid': u'50de3a5a638dadd7cf6c7723'}</td>\n",
       "      <td>NaN</td>\n",
       "      <td>NaN</td>\n",
       "      <td>NaN</td>\n",
       "      <td>NaN</td>\n",
       "      <td>NaN</td>\n",
       "      <td>NaN</td>\n",
       "      <td>1356741206</td>\n",
       "      <td>Utilization</td>\n",
       "      <td>Controller</td>\n",
       "      <td>NaN</td>\n",
       "      <td>[31, 57, 38]</td>\n",
       "      <td>1356099188</td>\n",
       "      <td>72</td>\n",
       "      <td>NaN</td>\n",
       "      <td>UNAVAILABLE</td>\n",
       "      <td>6862</td>\n",
       "      <td>None</td>\n",
       "      <td>Execution</td>\n",
       "      <td>N</td>\n",
       "    </tr>\n",
       "    <tr>\n",
       "      <th>1</th>\n",
       "      <td>{u'$oid': u'50de3a5a638dadd7cf6c7729'}</td>\n",
       "      <td>NaN</td>\n",
       "      <td>Alarm</td>\n",
       "      <td>UNAVAILABLE</td>\n",
       "      <td>NaN</td>\n",
       "      <td>NaN</td>\n",
       "      <td>d23</td>\n",
       "      <td>1356741206</td>\n",
       "      <td>Alarm</td>\n",
       "      <td>Device</td>\n",
       "      <td>d23</td>\n",
       "      <td>[31, 57, 38]</td>\n",
       "      <td>NaN</td>\n",
       "      <td>72</td>\n",
       "      <td>NaN</td>\n",
       "      <td>UNAVAILABLE</td>\n",
       "      <td>6861</td>\n",
       "      <td>alarm</td>\n",
       "      <td>UNAVAILABLE</td>\n",
       "      <td>N</td>\n",
       "    </tr>\n",
       "  </tbody>\n",
       "</table>\n",
       "</div>"
      ],
      "text/plain": [
       "                                      _id  alarm_code alarm_condition  \\\n",
       "0  {u'$oid': u'50de3a5a638dadd7cf6c7723'}         NaN             NaN   \n",
       "1  {u'$oid': u'50de3a5a638dadd7cf6c7729'}         NaN           Alarm   \n",
       "\n",
       "    alarm_name  alarm_nativeCode  alarm_severity alarm_type  begin_dt_tm  \\\n",
       "0          NaN               NaN             NaN        NaN   1356741206   \n",
       "1  UNAVAILABLE               NaN             NaN        d23   1356741206   \n",
       "\n",
       "      category   component dataitemid    department  instance_id  machine_id  \\\n",
       "0  Utilization  Controller        NaN  [31, 57, 38]   1356099188          72   \n",
       "1        Alarm      Device        d23  [31, 57, 38]          NaN          72   \n",
       "\n",
       "   mt_name     mt_value  sequence subtype         type virtual_flag  \n",
       "0      NaN  UNAVAILABLE      6862    None    Execution            N  \n",
       "1      NaN  UNAVAILABLE      6861   alarm  UNAVAILABLE            N  "
      ]
     },
     "execution_count": 18,
     "metadata": {},
     "output_type": "execute_result"
    }
   ],
   "source": [
    "dataframe"
   ]
  },
  {
   "cell_type": "code",
   "execution_count": 23,
   "metadata": {
    "collapsed": false
   },
   "outputs": [
    {
     "data": {
      "text/plain": [
       "Int64Index([0, 1], dtype='int64')"
      ]
     },
     "execution_count": 23,
     "metadata": {},
     "output_type": "execute_result"
    }
   ],
   "source": [
    "dataframe.index"
   ]
  },
  {
   "cell_type": "code",
   "execution_count": 24,
   "metadata": {
    "collapsed": false
   },
   "outputs": [
    {
     "data": {
      "text/plain": [
       "0    {u'$oid': u'50de3a5a638dadd7cf6c7723'}\n",
       "1    {u'$oid': u'50de3a5a638dadd7cf6c7729'}\n",
       "Name: _id, dtype: object"
      ]
     },
     "execution_count": 24,
     "metadata": {},
     "output_type": "execute_result"
    }
   ],
   "source": [
    "dataframe._id"
   ]
  },
  {
   "cell_type": "code",
   "execution_count": 25,
   "metadata": {
    "collapsed": false
   },
   "outputs": [
    {
     "data": {
      "text/html": [
       "<div>\n",
       "<table border=\"1\" class=\"dataframe\">\n",
       "  <thead>\n",
       "    <tr style=\"text-align: right;\">\n",
       "      <th></th>\n",
       "      <th>_id</th>\n",
       "      <th>alarm_code</th>\n",
       "      <th>alarm_condition</th>\n",
       "      <th>alarm_name</th>\n",
       "      <th>alarm_nativeCode</th>\n",
       "      <th>alarm_severity</th>\n",
       "      <th>alarm_type</th>\n",
       "      <th>begin_dt_tm</th>\n",
       "      <th>category</th>\n",
       "      <th>component</th>\n",
       "      <th>dataitemid</th>\n",
       "      <th>department</th>\n",
       "      <th>instance_id</th>\n",
       "      <th>machine_id</th>\n",
       "      <th>mt_name</th>\n",
       "      <th>mt_value</th>\n",
       "      <th>sequence</th>\n",
       "      <th>subtype</th>\n",
       "      <th>type</th>\n",
       "      <th>virtual_flag</th>\n",
       "    </tr>\n",
       "  </thead>\n",
       "  <tbody>\n",
       "    <tr>\n",
       "      <th>0</th>\n",
       "      <td>{u'$oid': u'50de3a5a638dadd7cf6c7723'}</td>\n",
       "      <td>NaN</td>\n",
       "      <td>NaN</td>\n",
       "      <td>NaN</td>\n",
       "      <td>NaN</td>\n",
       "      <td>NaN</td>\n",
       "      <td>NaN</td>\n",
       "      <td>1356741206</td>\n",
       "      <td>Utilization</td>\n",
       "      <td>Controller</td>\n",
       "      <td>NaN</td>\n",
       "      <td>[31, 57, 38]</td>\n",
       "      <td>1356099188</td>\n",
       "      <td>72</td>\n",
       "      <td>NaN</td>\n",
       "      <td>UNAVAILABLE</td>\n",
       "      <td>6862</td>\n",
       "      <td>None</td>\n",
       "      <td>Execution</td>\n",
       "      <td>N</td>\n",
       "    </tr>\n",
       "  </tbody>\n",
       "</table>\n",
       "</div>"
      ],
      "text/plain": [
       "                                      _id  alarm_code alarm_condition  \\\n",
       "0  {u'$oid': u'50de3a5a638dadd7cf6c7723'}         NaN             NaN   \n",
       "\n",
       "  alarm_name  alarm_nativeCode  alarm_severity alarm_type  begin_dt_tm  \\\n",
       "0        NaN               NaN             NaN        NaN   1356741206   \n",
       "\n",
       "      category   component dataitemid    department  instance_id  machine_id  \\\n",
       "0  Utilization  Controller        NaN  [31, 57, 38]   1356099188          72   \n",
       "\n",
       "   mt_name     mt_value  sequence subtype       type virtual_flag  \n",
       "0      NaN  UNAVAILABLE      6862    None  Execution            N  "
      ]
     },
     "execution_count": 25,
     "metadata": {},
     "output_type": "execute_result"
    }
   ],
   "source": [
    "dataframe[:1]"
   ]
  },
  {
   "cell_type": "code",
   "execution_count": 30,
   "metadata": {
    "collapsed": false
   },
   "outputs": [],
   "source": [
    "df = dataframe.loc[dataframe.category==\"Utilization\"]"
   ]
  },
  {
   "cell_type": "code",
   "execution_count": 31,
   "metadata": {
    "collapsed": false
   },
   "outputs": [
    {
     "data": {
      "text/html": [
       "<div>\n",
       "<table border=\"1\" class=\"dataframe\">\n",
       "  <thead>\n",
       "    <tr style=\"text-align: right;\">\n",
       "      <th></th>\n",
       "      <th>_id</th>\n",
       "      <th>alarm_code</th>\n",
       "      <th>alarm_condition</th>\n",
       "      <th>alarm_name</th>\n",
       "      <th>alarm_nativeCode</th>\n",
       "      <th>alarm_severity</th>\n",
       "      <th>alarm_type</th>\n",
       "      <th>begin_dt_tm</th>\n",
       "      <th>category</th>\n",
       "      <th>component</th>\n",
       "      <th>dataitemid</th>\n",
       "      <th>department</th>\n",
       "      <th>instance_id</th>\n",
       "      <th>machine_id</th>\n",
       "      <th>mt_name</th>\n",
       "      <th>mt_value</th>\n",
       "      <th>sequence</th>\n",
       "      <th>subtype</th>\n",
       "      <th>type</th>\n",
       "      <th>virtual_flag</th>\n",
       "    </tr>\n",
       "  </thead>\n",
       "  <tbody>\n",
       "    <tr>\n",
       "      <th>0</th>\n",
       "      <td>{u'$oid': u'50de3a5a638dadd7cf6c7723'}</td>\n",
       "      <td>NaN</td>\n",
       "      <td>NaN</td>\n",
       "      <td>NaN</td>\n",
       "      <td>NaN</td>\n",
       "      <td>NaN</td>\n",
       "      <td>NaN</td>\n",
       "      <td>1356741206</td>\n",
       "      <td>Utilization</td>\n",
       "      <td>Controller</td>\n",
       "      <td>NaN</td>\n",
       "      <td>[31, 57, 38]</td>\n",
       "      <td>1356099188</td>\n",
       "      <td>72</td>\n",
       "      <td>NaN</td>\n",
       "      <td>UNAVAILABLE</td>\n",
       "      <td>6862</td>\n",
       "      <td>None</td>\n",
       "      <td>Execution</td>\n",
       "      <td>N</td>\n",
       "    </tr>\n",
       "  </tbody>\n",
       "</table>\n",
       "</div>"
      ],
      "text/plain": [
       "                                      _id  alarm_code alarm_condition  \\\n",
       "0  {u'$oid': u'50de3a5a638dadd7cf6c7723'}         NaN             NaN   \n",
       "\n",
       "  alarm_name  alarm_nativeCode  alarm_severity alarm_type  begin_dt_tm  \\\n",
       "0        NaN               NaN             NaN        NaN   1356741206   \n",
       "\n",
       "      category   component dataitemid    department  instance_id  machine_id  \\\n",
       "0  Utilization  Controller        NaN  [31, 57, 38]   1356099188          72   \n",
       "\n",
       "   mt_name     mt_value  sequence subtype       type virtual_flag  \n",
       "0      NaN  UNAVAILABLE      6862    None  Execution            N  "
      ]
     },
     "execution_count": 31,
     "metadata": {},
     "output_type": "execute_result"
    }
   ],
   "source": [
    "df"
   ]
  },
  {
   "cell_type": "code",
   "execution_count": null,
   "metadata": {
    "collapsed": true
   },
   "outputs": [],
   "source": []
  }
 ],
 "metadata": {
  "kernelspec": {
   "display_name": "Python 2",
   "language": "python",
   "name": "python2"
  },
  "language_info": {
   "codemirror_mode": {
    "name": "ipython",
    "version": 2
   },
   "file_extension": ".py",
   "mimetype": "text/x-python",
   "name": "python",
   "nbconvert_exporter": "python",
   "pygments_lexer": "ipython2",
   "version": "2.7.9"
  }
 },
 "nbformat": 4,
 "nbformat_minor": 0
}
