{
 "cells": [
  {
   "cell_type": "code",
<<<<<<< HEAD
   "execution_count": 2,
=======
   "execution_count": 14,
>>>>>>> origin/master
   "metadata": {
    "collapsed": false
   },
   "outputs": [
    {
<<<<<<< HEAD
     "ename": "ImportError",
     "evalue": "No module named 'ijson'",
     "output_type": "error",
     "traceback": [
      "\u001b[0;31m---------------------------------------------------------------------------\u001b[0m",
      "\u001b[0;31mImportError\u001b[0m                               Traceback (most recent call last)",
      "\u001b[0;32m<ipython-input-2-a3fc09f19088>\u001b[0m in \u001b[0;36m<module>\u001b[0;34m()\u001b[0m\n\u001b[0;32m----> 1\u001b[0;31m \u001b[0;32mimport\u001b[0m \u001b[0mijson\u001b[0m\u001b[0;34m\u001b[0m\u001b[0m\n\u001b[0m\u001b[1;32m      2\u001b[0m \u001b[0mf\u001b[0m \u001b[0;34m=\u001b[0m \u001b[0mopen\u001b[0m\u001b[0;34m(\u001b[0m\u001b[0;34m'input/dataprocessed.json'\u001b[0m\u001b[0;34m)\u001b[0m\u001b[0;34m\u001b[0m\u001b[0m\n\u001b[1;32m      3\u001b[0m \u001b[0mjson_obj\u001b[0m \u001b[0;34m=\u001b[0m \u001b[0mijson\u001b[0m\u001b[0;34m.\u001b[0m\u001b[0mitems\u001b[0m\u001b[0;34m(\u001b[0m\u001b[0mf\u001b[0m\u001b[0;34m,\u001b[0m\u001b[0;34m''\u001b[0m\u001b[0;34m)\u001b[0m\u001b[0;34m.\u001b[0m\u001b[0mnext\u001b[0m\u001b[0;34m(\u001b[0m\u001b[0;34m)\u001b[0m \u001b[0;31m# '' loads everything as only one object.\u001b[0m\u001b[0;34m\u001b[0m\u001b[0m\n\u001b[1;32m      4\u001b[0m \u001b[0;32mfor\u001b[0m \u001b[0;34m(\u001b[0m\u001b[0mkey\u001b[0m\u001b[0;34m,\u001b[0m \u001b[0mvalue\u001b[0m\u001b[0;34m)\u001b[0m \u001b[0;32min\u001b[0m \u001b[0mjson_obj\u001b[0m\u001b[0;34m.\u001b[0m\u001b[0mitems\u001b[0m\u001b[0;34m(\u001b[0m\u001b[0;34m)\u001b[0m\u001b[0;34m:\u001b[0m\u001b[0;34m\u001b[0m\u001b[0m\n\u001b[1;32m      5\u001b[0m     \u001b[0mprint\u001b[0m \u001b[0;34m(\u001b[0m\u001b[0mkey\u001b[0m \u001b[0;34m+\u001b[0m \u001b[0;34m\" -> \"\u001b[0m \u001b[0;34m+\u001b[0m \u001b[0mstr\u001b[0m\u001b[0;34m(\u001b[0m\u001b[0mvalue\u001b[0m\u001b[0;34m)\u001b[0m\u001b[0;34m)\u001b[0m\u001b[0;34m\u001b[0m\u001b[0m\n",
      "\u001b[0;31mImportError\u001b[0m: No module named 'ijson'"
=======
     "data": {
      "text/plain": [
       "'F:\\\\DOME_Data\\\\itamcojson2012.json'"
      ]
     },
     "execution_count": 14,
     "metadata": {},
     "output_type": "execute_result"
    }
   ],
   "source": [
    "import os\n",
    "data_location = os.path.normpath(\"F:\\DOME_Data\\itamcojson2012.json\")\n",
    "data_location"
   ]
  },
  {
   "cell_type": "code",
   "execution_count": 12,
   "metadata": {
    "collapsed": true
   },
   "outputs": [],
   "source": [
    "import pandas"
   ]
  },
  {
   "cell_type": "code",
   "execution_count": 15,
   "metadata": {
    "collapsed": false
   },
   "outputs": [
    {
     "ename": "MemoryError",
     "evalue": "",
     "output_type": "error",
     "traceback": [
      "\u001b[1;31m---------------------------------------------------------------------------\u001b[0m",
      "\u001b[1;31mMemoryError\u001b[0m                               Traceback (most recent call last)",
      "\u001b[1;32m<ipython-input-15-088b5790a0cb>\u001b[0m in \u001b[0;36m<module>\u001b[1;34m()\u001b[0m\n\u001b[1;32m----> 1\u001b[1;33m \u001b[0mdataframe\u001b[0m \u001b[1;33m=\u001b[0m \u001b[0mpandas\u001b[0m\u001b[1;33m.\u001b[0m\u001b[0mread_json\u001b[0m\u001b[1;33m(\u001b[0m\u001b[0mdata_location\u001b[0m\u001b[1;33m)\u001b[0m\u001b[1;33m\u001b[0m\u001b[0m\n\u001b[0m",
      "\u001b[1;32mC:\\Users\\Smitha\\AppData\\Local\\Enthought\\Canopy32\\User\\lib\\site-packages\\pandas\\io\\json.py\u001b[0m in \u001b[0;36mread_json\u001b[1;34m(path_or_buf, orient, typ, dtype, convert_axes, convert_dates, keep_default_dates, numpy, precise_float, date_unit)\u001b[0m\n\u001b[0;32m    185\u001b[0m         \u001b[1;32mif\u001b[0m \u001b[0mexists\u001b[0m\u001b[1;33m:\u001b[0m\u001b[1;33m\u001b[0m\u001b[0m\n\u001b[0;32m    186\u001b[0m             \u001b[1;32mwith\u001b[0m \u001b[0mopen\u001b[0m\u001b[1;33m(\u001b[0m\u001b[0mfilepath_or_buffer\u001b[0m\u001b[1;33m,\u001b[0m \u001b[1;34m'r'\u001b[0m\u001b[1;33m)\u001b[0m \u001b[1;32mas\u001b[0m \u001b[0mfh\u001b[0m\u001b[1;33m:\u001b[0m\u001b[1;33m\u001b[0m\u001b[0m\n\u001b[1;32m--> 187\u001b[1;33m                 \u001b[0mjson\u001b[0m \u001b[1;33m=\u001b[0m \u001b[0mfh\u001b[0m\u001b[1;33m.\u001b[0m\u001b[0mread\u001b[0m\u001b[1;33m(\u001b[0m\u001b[1;33m)\u001b[0m\u001b[1;33m\u001b[0m\u001b[0m\n\u001b[0m\u001b[0;32m    188\u001b[0m         \u001b[1;32melse\u001b[0m\u001b[1;33m:\u001b[0m\u001b[1;33m\u001b[0m\u001b[0m\n\u001b[0;32m    189\u001b[0m             \u001b[0mjson\u001b[0m \u001b[1;33m=\u001b[0m \u001b[0mfilepath_or_buffer\u001b[0m\u001b[1;33m\u001b[0m\u001b[0m\n",
      "\u001b[1;31mMemoryError\u001b[0m: "
>>>>>>> origin/master
     ]
    }
   ],
   "source": [
<<<<<<< HEAD
    "import ijson\n",
    "f = open('input/dataprocessed.json')\n",
    "json_obj = ijson.items(f,'').next() # '' loads everything as only one object.\n",
    "for (key, value) in json_obj.items():\n",
    "    print (key + \" -> \" + str(value))"
=======
    "dataframe = pandas.read_json(data_location)"
>>>>>>> origin/master
   ]
  },
  {
   "cell_type": "code",
<<<<<<< HEAD
   "execution_count": 6,
=======
   "execution_count": 16,
>>>>>>> origin/master
   "metadata": {
    "collapsed": false
   },
   "outputs": [
    {
<<<<<<< HEAD
     "name": "stdout",
     "output_type": "stream",
     "text": [
      "Collecting pip\n",
      "  Using cached pip-8.1.2-py2.py3-none-any.whl\n",
      "Installing collected packages: pip\n",
      "  Found existing installation: pip 8.1.0\n",
      "\u001b[31mException:\n",
      "Traceback (most recent call last):\n",
      "  File \"/usr/local/lib/python2.7/site-packages/pip/basecommand.py\", line 209, in main\n",
      "    status = self.run(options, args)\n",
      "  File \"/usr/local/lib/python2.7/site-packages/pip/commands/install.py\", line 317, in run\n",
      "    prefix=options.prefix_path,\n",
      "  File \"/usr/local/lib/python2.7/site-packages/pip/req/req_set.py\", line 726, in install\n",
      "    requirement.uninstall(auto_confirm=True)\n",
      "  File \"/usr/local/lib/python2.7/site-packages/pip/req/req_install.py\", line 699, in uninstall\n",
      "    for path in pip.wheel.uninstallation_paths(dist):\n",
      "  File \"/usr/local/lib/python2.7/site-packages/pip/wheel.py\", line 533, in unique\n",
      "    for item in fn(*args, **kw):\n",
      "  File \"/usr/local/lib/python2.7/site-packages/pip/wheel.py\", line 552, in uninstallation_paths\n",
      "    r = csv.reader(FakeFile(dist.get_metadata_lines('RECORD')))\n",
      "  File \"/usr/local/lib/python2.7/site-packages/pip/_vendor/pkg_resources/__init__.py\", line 1624, in get_metadata_lines\n",
      "    return yield_lines(self.get_metadata(name))\n",
      "  File \"/usr/local/lib/python2.7/site-packages/pip/_vendor/pkg_resources/__init__.py\", line 1616, in get_metadata\n",
      "    return self._get(self._fn(self.egg_info, name))\n",
      "  File \"/usr/local/lib/python2.7/site-packages/pip/_vendor/pkg_resources/__init__.py\", line 1727, in _get\n",
      "    with open(path, 'rb') as stream:\n",
      "IOError: [Errno 2] No such file or directory: '/usr/local/lib/python2.7/site-packages/pip-8.1.0.dist-info/RECORD'\u001b[0m\n",
      "\u001b[33mYou are using pip version 8.1.0, however version 8.1.2 is available.\n",
      "You should consider upgrading via the 'pip install --upgrade pip' command.\u001b[0m\n"
     ]
    }
   ],
   "source": [
    "!pip install --upgrade pip"
=======
     "data": {
      "text/plain": [
       "'C:\\\\Users\\\\Smitha\\\\Documents\\\\GitHub\\\\dmc-hackathon\\\\loadtest.json'"
      ]
     },
     "execution_count": 16,
     "metadata": {},
     "output_type": "execute_result"
    }
   ],
   "source": [
    "import os\n",
    "data_location = os.path.normpath(\"C:\\Users\\Smitha\\Documents\\GitHub\\dmc-hackathon\\loadtest.json\")\n",
    "data_location"
   ]
  },
  {
   "cell_type": "code",
   "execution_count": 17,
   "metadata": {
    "collapsed": true
   },
   "outputs": [],
   "source": [
    "dataframe = pandas.read_json(data_location)"
   ]
  },
  {
   "cell_type": "code",
   "execution_count": 18,
   "metadata": {
    "collapsed": false
   },
   "outputs": [
    {
     "data": {
      "text/html": [
       "<div>\n",
       "<table border=\"1\" class=\"dataframe\">\n",
       "  <thead>\n",
       "    <tr style=\"text-align: right;\">\n",
       "      <th></th>\n",
       "      <th>_id</th>\n",
       "      <th>alarm_code</th>\n",
       "      <th>alarm_condition</th>\n",
       "      <th>alarm_name</th>\n",
       "      <th>alarm_nativeCode</th>\n",
       "      <th>alarm_severity</th>\n",
       "      <th>alarm_type</th>\n",
       "      <th>begin_dt_tm</th>\n",
       "      <th>category</th>\n",
       "      <th>component</th>\n",
       "      <th>dataitemid</th>\n",
       "      <th>department</th>\n",
       "      <th>instance_id</th>\n",
       "      <th>machine_id</th>\n",
       "      <th>mt_name</th>\n",
       "      <th>mt_value</th>\n",
       "      <th>sequence</th>\n",
       "      <th>subtype</th>\n",
       "      <th>type</th>\n",
       "      <th>virtual_flag</th>\n",
       "    </tr>\n",
       "  </thead>\n",
       "  <tbody>\n",
       "    <tr>\n",
       "      <th>0</th>\n",
       "      <td>{u'$oid': u'50de3a5a638dadd7cf6c7723'}</td>\n",
       "      <td>NaN</td>\n",
       "      <td>NaN</td>\n",
       "      <td>NaN</td>\n",
       "      <td>NaN</td>\n",
       "      <td>NaN</td>\n",
       "      <td>NaN</td>\n",
       "      <td>1356741206</td>\n",
       "      <td>Utilization</td>\n",
       "      <td>Controller</td>\n",
       "      <td>NaN</td>\n",
       "      <td>[31, 57, 38]</td>\n",
       "      <td>1356099188</td>\n",
       "      <td>72</td>\n",
       "      <td>NaN</td>\n",
       "      <td>UNAVAILABLE</td>\n",
       "      <td>6862</td>\n",
       "      <td>None</td>\n",
       "      <td>Execution</td>\n",
       "      <td>N</td>\n",
       "    </tr>\n",
       "    <tr>\n",
       "      <th>1</th>\n",
       "      <td>{u'$oid': u'50de3a5a638dadd7cf6c7729'}</td>\n",
       "      <td>NaN</td>\n",
       "      <td>Alarm</td>\n",
       "      <td>UNAVAILABLE</td>\n",
       "      <td>NaN</td>\n",
       "      <td>NaN</td>\n",
       "      <td>d23</td>\n",
       "      <td>1356741206</td>\n",
       "      <td>Alarm</td>\n",
       "      <td>Device</td>\n",
       "      <td>d23</td>\n",
       "      <td>[31, 57, 38]</td>\n",
       "      <td>NaN</td>\n",
       "      <td>72</td>\n",
       "      <td>NaN</td>\n",
       "      <td>UNAVAILABLE</td>\n",
       "      <td>6861</td>\n",
       "      <td>alarm</td>\n",
       "      <td>UNAVAILABLE</td>\n",
       "      <td>N</td>\n",
       "    </tr>\n",
       "  </tbody>\n",
       "</table>\n",
       "</div>"
      ],
      "text/plain": [
       "                                      _id  alarm_code alarm_condition  \\\n",
       "0  {u'$oid': u'50de3a5a638dadd7cf6c7723'}         NaN             NaN   \n",
       "1  {u'$oid': u'50de3a5a638dadd7cf6c7729'}         NaN           Alarm   \n",
       "\n",
       "    alarm_name  alarm_nativeCode  alarm_severity alarm_type  begin_dt_tm  \\\n",
       "0          NaN               NaN             NaN        NaN   1356741206   \n",
       "1  UNAVAILABLE               NaN             NaN        d23   1356741206   \n",
       "\n",
       "      category   component dataitemid    department  instance_id  machine_id  \\\n",
       "0  Utilization  Controller        NaN  [31, 57, 38]   1356099188          72   \n",
       "1        Alarm      Device        d23  [31, 57, 38]          NaN          72   \n",
       "\n",
       "   mt_name     mt_value  sequence subtype         type virtual_flag  \n",
       "0      NaN  UNAVAILABLE      6862    None    Execution            N  \n",
       "1      NaN  UNAVAILABLE      6861   alarm  UNAVAILABLE            N  "
      ]
     },
     "execution_count": 18,
     "metadata": {},
     "output_type": "execute_result"
    }
   ],
   "source": [
    "dataframe"
   ]
  },
  {
   "cell_type": "code",
   "execution_count": 23,
   "metadata": {
    "collapsed": false
   },
   "outputs": [
    {
     "data": {
      "text/plain": [
       "Int64Index([0, 1], dtype='int64')"
      ]
     },
     "execution_count": 23,
     "metadata": {},
     "output_type": "execute_result"
    }
   ],
   "source": [
    "dataframe.index"
   ]
  },
  {
   "cell_type": "code",
   "execution_count": 24,
   "metadata": {
    "collapsed": false
   },
   "outputs": [
    {
     "data": {
      "text/plain": [
       "0    {u'$oid': u'50de3a5a638dadd7cf6c7723'}\n",
       "1    {u'$oid': u'50de3a5a638dadd7cf6c7729'}\n",
       "Name: _id, dtype: object"
      ]
     },
     "execution_count": 24,
     "metadata": {},
     "output_type": "execute_result"
    }
   ],
   "source": [
    "dataframe._id"
   ]
  },
  {
   "cell_type": "code",
   "execution_count": 25,
   "metadata": {
    "collapsed": false
   },
   "outputs": [
    {
     "data": {
      "text/html": [
       "<div>\n",
       "<table border=\"1\" class=\"dataframe\">\n",
       "  <thead>\n",
       "    <tr style=\"text-align: right;\">\n",
       "      <th></th>\n",
       "      <th>_id</th>\n",
       "      <th>alarm_code</th>\n",
       "      <th>alarm_condition</th>\n",
       "      <th>alarm_name</th>\n",
       "      <th>alarm_nativeCode</th>\n",
       "      <th>alarm_severity</th>\n",
       "      <th>alarm_type</th>\n",
       "      <th>begin_dt_tm</th>\n",
       "      <th>category</th>\n",
       "      <th>component</th>\n",
       "      <th>dataitemid</th>\n",
       "      <th>department</th>\n",
       "      <th>instance_id</th>\n",
       "      <th>machine_id</th>\n",
       "      <th>mt_name</th>\n",
       "      <th>mt_value</th>\n",
       "      <th>sequence</th>\n",
       "      <th>subtype</th>\n",
       "      <th>type</th>\n",
       "      <th>virtual_flag</th>\n",
       "    </tr>\n",
       "  </thead>\n",
       "  <tbody>\n",
       "    <tr>\n",
       "      <th>0</th>\n",
       "      <td>{u'$oid': u'50de3a5a638dadd7cf6c7723'}</td>\n",
       "      <td>NaN</td>\n",
       "      <td>NaN</td>\n",
       "      <td>NaN</td>\n",
       "      <td>NaN</td>\n",
       "      <td>NaN</td>\n",
       "      <td>NaN</td>\n",
       "      <td>1356741206</td>\n",
       "      <td>Utilization</td>\n",
       "      <td>Controller</td>\n",
       "      <td>NaN</td>\n",
       "      <td>[31, 57, 38]</td>\n",
       "      <td>1356099188</td>\n",
       "      <td>72</td>\n",
       "      <td>NaN</td>\n",
       "      <td>UNAVAILABLE</td>\n",
       "      <td>6862</td>\n",
       "      <td>None</td>\n",
       "      <td>Execution</td>\n",
       "      <td>N</td>\n",
       "    </tr>\n",
       "  </tbody>\n",
       "</table>\n",
       "</div>"
      ],
      "text/plain": [
       "                                      _id  alarm_code alarm_condition  \\\n",
       "0  {u'$oid': u'50de3a5a638dadd7cf6c7723'}         NaN             NaN   \n",
       "\n",
       "  alarm_name  alarm_nativeCode  alarm_severity alarm_type  begin_dt_tm  \\\n",
       "0        NaN               NaN             NaN        NaN   1356741206   \n",
       "\n",
       "      category   component dataitemid    department  instance_id  machine_id  \\\n",
       "0  Utilization  Controller        NaN  [31, 57, 38]   1356099188          72   \n",
       "\n",
       "   mt_name     mt_value  sequence subtype       type virtual_flag  \n",
       "0      NaN  UNAVAILABLE      6862    None  Execution            N  "
      ]
     },
     "execution_count": 25,
     "metadata": {},
     "output_type": "execute_result"
    }
   ],
   "source": [
    "dataframe[:1]"
   ]
  },
  {
   "cell_type": "code",
   "execution_count": 30,
   "metadata": {
    "collapsed": false
   },
   "outputs": [],
   "source": [
    "df = dataframe.loc[dataframe.category==\"Utilization\"]"
   ]
  },
  {
   "cell_type": "code",
   "execution_count": 31,
   "metadata": {
    "collapsed": false
   },
   "outputs": [
    {
     "data": {
      "text/html": [
       "<div>\n",
       "<table border=\"1\" class=\"dataframe\">\n",
       "  <thead>\n",
       "    <tr style=\"text-align: right;\">\n",
       "      <th></th>\n",
       "      <th>_id</th>\n",
       "      <th>alarm_code</th>\n",
       "      <th>alarm_condition</th>\n",
       "      <th>alarm_name</th>\n",
       "      <th>alarm_nativeCode</th>\n",
       "      <th>alarm_severity</th>\n",
       "      <th>alarm_type</th>\n",
       "      <th>begin_dt_tm</th>\n",
       "      <th>category</th>\n",
       "      <th>component</th>\n",
       "      <th>dataitemid</th>\n",
       "      <th>department</th>\n",
       "      <th>instance_id</th>\n",
       "      <th>machine_id</th>\n",
       "      <th>mt_name</th>\n",
       "      <th>mt_value</th>\n",
       "      <th>sequence</th>\n",
       "      <th>subtype</th>\n",
       "      <th>type</th>\n",
       "      <th>virtual_flag</th>\n",
       "    </tr>\n",
       "  </thead>\n",
       "  <tbody>\n",
       "    <tr>\n",
       "      <th>0</th>\n",
       "      <td>{u'$oid': u'50de3a5a638dadd7cf6c7723'}</td>\n",
       "      <td>NaN</td>\n",
       "      <td>NaN</td>\n",
       "      <td>NaN</td>\n",
       "      <td>NaN</td>\n",
       "      <td>NaN</td>\n",
       "      <td>NaN</td>\n",
       "      <td>1356741206</td>\n",
       "      <td>Utilization</td>\n",
       "      <td>Controller</td>\n",
       "      <td>NaN</td>\n",
       "      <td>[31, 57, 38]</td>\n",
       "      <td>1356099188</td>\n",
       "      <td>72</td>\n",
       "      <td>NaN</td>\n",
       "      <td>UNAVAILABLE</td>\n",
       "      <td>6862</td>\n",
       "      <td>None</td>\n",
       "      <td>Execution</td>\n",
       "      <td>N</td>\n",
       "    </tr>\n",
       "  </tbody>\n",
       "</table>\n",
       "</div>"
      ],
      "text/plain": [
       "                                      _id  alarm_code alarm_condition  \\\n",
       "0  {u'$oid': u'50de3a5a638dadd7cf6c7723'}         NaN             NaN   \n",
       "\n",
       "  alarm_name  alarm_nativeCode  alarm_severity alarm_type  begin_dt_tm  \\\n",
       "0        NaN               NaN             NaN        NaN   1356741206   \n",
       "\n",
       "      category   component dataitemid    department  instance_id  machine_id  \\\n",
       "0  Utilization  Controller        NaN  [31, 57, 38]   1356099188          72   \n",
       "\n",
       "   mt_name     mt_value  sequence subtype       type virtual_flag  \n",
       "0      NaN  UNAVAILABLE      6862    None  Execution            N  "
      ]
     },
     "execution_count": 31,
     "metadata": {},
     "output_type": "execute_result"
    }
   ],
   "source": [
    "df"
>>>>>>> origin/master
   ]
  },
  {
   "cell_type": "code",
   "execution_count": null,
   "metadata": {
    "collapsed": true
   },
   "outputs": [],
   "source": []
  }
 ],
 "metadata": {
  "kernelspec": {
<<<<<<< HEAD
   "display_name": "Python 3",
   "language": "python",
   "name": "python3"
=======
   "display_name": "Python 2",
   "language": "python",
   "name": "python2"
>>>>>>> origin/master
  },
  "language_info": {
   "codemirror_mode": {
    "name": "ipython",
<<<<<<< HEAD
    "version": 3
=======
    "version": 2
>>>>>>> origin/master
   },
   "file_extension": ".py",
   "mimetype": "text/x-python",
   "name": "python",
   "nbconvert_exporter": "python",
<<<<<<< HEAD
   "pygments_lexer": "ipython3",
   "version": "3.5.1"
=======
   "pygments_lexer": "ipython2",
   "version": "2.7.9"
>>>>>>> origin/master
  }
 },
 "nbformat": 4,
 "nbformat_minor": 0
}
